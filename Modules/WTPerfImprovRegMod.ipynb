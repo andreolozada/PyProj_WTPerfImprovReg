{
 "cells": [
  {
   "cell_type": "markdown",
   "id": "9b550099",
   "metadata": {},
   "source": [
    "# Functions Module\n",
    "Evaluating Wind Turbine Performance Improvement Using Regression"
   ]
  },
  {
   "cell_type": "markdown",
   "id": "705f3214",
   "metadata": {},
   "source": [
    "#### Loading the Python Libraries"
   ]
  },
  {
   "cell_type": "code",
   "execution_count": null,
   "id": "b1b79c3c",
   "metadata": {},
   "outputs": [],
   "source": [
    "import pandas as pd\n",
    "import numpy as np\n",
    "import matplotlib.pyplot as plt\n",
    "import seaborn as sns"
   ]
  },
  {
   "cell_type": "markdown",
   "id": "59e8fdf1",
   "metadata": {},
   "source": [
    "### Plot Wind Power Curve Scatter and Line Plots"
   ]
  },
  {
   "cell_type": "code",
   "execution_count": null,
   "id": "9bdf9e0e",
   "metadata": {},
   "outputs": [],
   "source": [
    "# plot scatter plots of actual wind speed and power data and line plots of synthetic power curve data\n",
    "def plot_pc(scatter_x, scatter_y, titles_list, curve_x=None, curve_y=None, curve_columns=None, blue_index=4):\n",
    "    plot_count = len(scatter_y)\n",
    "    rows = (plot_count + 1)//2\n",
    "    fig, axes = plt.subplots(rows, 2, figsize=(12, 4 * rows))\n",
    "    \n",
    "    # scatter plots\n",
    "    for i, (x, y, title) in enumerate(zip(scatter_x, scatter_y, titles_list)):\n",
    "        if plot_count > 2:\n",
    "            ax = axes[i // 2, i % 2]\n",
    "        else:\n",
    "            ax = axes[i]\n",
    "        if curve_x is not None and curve_y is not None and curve_columns is not None:\n",
    "            sp_label = \"actual\"\n",
    "        else:\n",
    "            sp_label = None\n",
    "        sns.scatterplot(x=x, y=y, alpha=0.1, label=sp_label, color=sns.color_palette('Blues')[blue_index], ax=ax)\n",
    "        ax.set_title(title)\n",
    "        ax.set_xlim(0, 25)\n",
    "    \n",
    "    # power curves\n",
    "    if curve_x is not None and curve_y is not None:\n",
    "        for i, (x, y) in enumerate(zip(curve_x, curve_y)):\n",
    "            if plot_count > 2:\n",
    "                ax = axes[i // 2, i % 2]\n",
    "            else:\n",
    "                ax = axes[i]\n",
    "            if curve_columns is not None:\n",
    "                # multiple power curves\n",
    "                for c, col in enumerate(curve_columns):\n",
    "                    sns.lineplot(x=x, y=y[col], label=str(col),\n",
    "                                 color=sns.color_palette('YlOrRd', n_colors=len(curve_columns))[c], ax=ax)\n",
    "            else:\n",
    "                # single power curve\n",
    "                sns.lineplot(x=x, y=y, color=sns.color_palette('YlOrRd')[3], ax=ax)\n",
    "    \n",
    "    # hide last axis if odd number of subplots\n",
    "    if plot_count % 2 > 0:\n",
    "        if plot_count > 2:\n",
    "            ax = axes[rows-1, 1]\n",
    "        else:\n",
    "            ax = axes[1]\n",
    "        ax.axis('off')\n",
    "    \n",
    "    # adjust spacing between subplots\n",
    "    plt.tight_layout()\n",
    "\n",
    "    # show plots\n",
    "    plt.show()"
   ]
  },
  {
   "cell_type": "markdown",
   "id": "f5ba33fa",
   "metadata": {},
   "source": [
    "### Wind Power Curve Sigmoid Hyperbolic Tangent Equation\n",
    "\n",
    "It can be observed that the Power vs WindSpeed scatter plots generally concentrate on an S-shaped curve following a ***sigmoid*** function. There are several variations of the sigmoid function (e.g. *logistic function*). After plotting a variety of modified sigmoid functions over actual wind turbine scatter plots, using ***hyperbolic tangent (tanh)*** with the wind speed expressed in a ***fourth-degree polynomial*** was chosen to fit best based on visual approximation.\n",
    "\n",
    "$$ \\hat{power} = maxpower*tanh((a*windspeed+b)^4) $$\n",
    "\n",
    "<sub> Reference: Wood, T. (n.d.). Sigmoid Function. DeepAI: Machine Learning Glossary and Terms. Retrieved from https://deepai.org/machine-learning-glossary-and-terms/sigmoid-function </sub>"
   ]
  },
  {
   "cell_type": "code",
   "execution_count": null,
   "id": "08c92d33",
   "metadata": {},
   "outputs": [],
   "source": [
    "# define the wind power curve sigmoid tanh equation between Power and WindSpeed\n",
    "def wpc_equation(params, x):\n",
    "    a, b = params\n",
    "    return capacity * np.tanh((a*x + b)**4)"
   ]
  },
  {
   "cell_type": "markdown",
   "id": "04107ac8",
   "metadata": {},
   "source": [
    "### Quantile Regression Error Function\n",
    "*Quantile Regression* fits the line with the minimum total absolute errors with weights based on the chosen quantile, unlike linear regression which is just based on the ordinary least square error. Using quantiles, extreme values have less impact on quantile regression.\n",
    "\n",
    "The error function is given by:\n",
    "\n",
    "$$\n",
    "\\begin{equation}\n",
    "  \\epsilon =\n",
    "    \\begin{cases}\n",
    "      q * (power - \\hat{power}) & \\text{if $ (power - \\hat{power}) \\ge 0$}\\\\\n",
    "      (q-1) * (power - \\hat{power}) & \\text{if $ (power - \\hat{power}) < 0$ }\\\\\n",
    "    \\end{cases}       \n",
    "\\end{equation}\n",
    "$$\n",
    "\n",
    "<sub> Reference: Koenker, R., & Hallock, K. F. (2001). Quantile Regression. *Journal of Economic Perspectives*, 15(4), 143-156. </sub>"
   ]
  },
  {
   "cell_type": "code",
   "execution_count": null,
   "id": "7b268632",
   "metadata": {},
   "outputs": [],
   "source": [
    "# define the quantile regression error function to be minimized\n",
    "def err_function_qr(params, x, y, q):\n",
    "    y_pred = wpc_equation(params, x)\n",
    "    err = y - y_pred\n",
    "    err_abs = np.where(err >= 0, q * err, (q - 1) * err)\n",
    "    return np.sum(np.abs(err_abs))"
   ]
  },
  {
   "cell_type": "markdown",
   "id": "5e98421a",
   "metadata": {},
   "source": [
    "### Ordinary Least Squares Error Function"
   ]
  },
  {
   "cell_type": "code",
   "execution_count": null,
   "id": "72d9590e",
   "metadata": {},
   "outputs": [],
   "source": [
    "# define the error function using ordinary least squares to be minimized\n",
    "def err_function_ols(params, x, y):\n",
    "    y_pred = wpc_equation(params, x)\n",
    "    err = (y - y_pred)**2\n",
    "    return np.sum(err)"
   ]
  },
  {
   "cell_type": "markdown",
   "id": "4525bc79",
   "metadata": {},
   "source": [
    "### Create Synthetic Power Curve Data Frames"
   ]
  },
  {
   "cell_type": "code",
   "execution_count": null,
   "id": "53b4e911",
   "metadata": {},
   "outputs": [],
   "source": [
    "# create dataframes based on specified minimum, maximum, and incremental wind speed values\n",
    "def create_pc_df(column_name, windspeed_min, windspeed_max, increment):\n",
    "    ws_sequence = np.arange(windspeed_min, windspeed_max + increment, increment)\n",
    "    return pd.DataFrame({column_name: ws_sequence})"
   ]
  },
  {
   "cell_type": "markdown",
   "id": "a54b62c8",
   "metadata": {},
   "source": [
    "### Outlier Filtering on Synthetic Power Curve"
   ]
  },
  {
   "cell_type": "code",
   "execution_count": null,
   "id": "34bf151c",
   "metadata": {},
   "outputs": [],
   "source": [
    "# calculate the power curves of the upper and lower bounds of the range for filtering outliers\n",
    "def outlier_pc(data, tolerance=0):\n",
    "    q1 = data.loc[:, qname+\"25\"]\n",
    "    q3 = data.loc[:, qname+\"75\"]\n",
    "    return [(1-tolerance) * (q1-1.5*(q3-q1)), (1+tolerance) * (q3+1.5*(q3-q1))]"
   ]
  },
  {
   "cell_type": "markdown",
   "id": "00cd16d4",
   "metadata": {},
   "source": [
    "### Outlier Filtering on Main Data"
   ]
  },
  {
   "cell_type": "code",
   "execution_count": null,
   "id": "db5057a3",
   "metadata": {},
   "outputs": [],
   "source": [
    "# calculate the upper and lower bounds of the range for filtering outliers\n",
    "def outlier_filter_range(x, tolerance=0):\n",
    "    q1 = wpc_equation(opt_params_bef[0], x)\n",
    "    q3 = wpc_equation(opt_params_bef[1], x)\n",
    "    return [(1-tolerance) * (q1-1.5*(q3-q1)), (1+tolerance) * (q3+1.5*(q3-q1))]"
   ]
  },
  {
   "cell_type": "code",
   "execution_count": null,
   "id": "82072a48",
   "metadata": {},
   "outputs": [],
   "source": []
  }
 ],
 "metadata": {
  "kernelspec": {
   "display_name": "Python 3 (ipykernel)",
   "language": "python",
   "name": "python3"
  },
  "language_info": {
   "codemirror_mode": {
    "name": "ipython",
    "version": 3
   },
   "file_extension": ".py",
   "mimetype": "text/x-python",
   "name": "python",
   "nbconvert_exporter": "python",
   "pygments_lexer": "ipython3",
   "version": "3.10.12"
  }
 },
 "nbformat": 4,
 "nbformat_minor": 5
}
